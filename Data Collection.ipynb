{
 "cells": [
  {
   "cell_type": "code",
   "execution_count": 30,
   "metadata": {
    "collapsed": true,
    "scrolled": true
   },
   "outputs": [],
   "source": [
    "import pandas as pd\n",
    "import numpy as np\n",
    "import matplotlib.pyplot as plt\n",
    "from matplotlib.ticker import MaxNLocator\n",
    "from matplotlib.colors import BoundaryNorm\n",
    "import time\n",
    "\n",
    "data = np.loadtxt('F:\\data.txt')\n",
    "df = pd.DataFrame(data)\n",
    "\n",
    "df = df.iloc[1:] # 删除前三行 第一个数据可能不准确"
   ]
  },
  {
   "cell_type": "code",
   "execution_count": 31,
   "metadata": {},
   "outputs": [
    {
     "data": {
      "text/plain": [
       "(106, 768)"
      ]
     },
     "execution_count": 31,
     "metadata": {},
     "output_type": "execute_result"
    }
   ],
   "source": [
    "df.shape"
   ]
  },
  {
   "cell_type": "markdown",
   "metadata": {},
   "source": [
    "在此输入投票结果 Input the feeling here"
   ]
  },
  {
   "cell_type": "code",
   "execution_count": 35,
   "metadata": {},
   "outputs": [
    {
     "name": "stdout",
     "output_type": "stream",
     "text": [
      "请输入热舒适度: 0过冷 1冷 2舒适 3热 4过热 \n",
      "Please input the feeling you are: 0 for too cold, 1 for cold, 2 for comfortable, 3 for hot and 4 for too hot \n",
      "your feeling is 1\n"
     ]
    }
   ],
   "source": [
    "inp = input('请输入热舒适度: 0过冷 1冷 2舒适 3热 4过热 '+'\\n' +'Please input the feeling you are: 0 for too cold, 1 for cold, 2 for comfortable, 3 for hot and 4 for too hot '+'\\n'+ 'your feeling is ')\n",
    "# label = int(inp)\n",
    "# label = pd.DataFrame(np.array([label]*temDistribution.shape[0]))\n",
    "# temDistribution_label = pd.concat([temDistribution, label], axis=1)\n",
    "# 把温度分布和label列合并为一个df"
   ]
  },
  {
   "cell_type": "markdown",
   "metadata": {},
   "source": [
    "保存原始数据和处理后的特征数据"
   ]
  },
  {
   "cell_type": "code",
   "execution_count": 33,
   "metadata": {
    "collapsed": true
   },
   "outputs": [],
   "source": [
    "import time\n",
    "df.to_csv(\"raw_data/data_{}_{}.csv\".format(time.strftime(\"%Y%m%d_%H%M\", time.localtime()), inp), mode='a', index=False, header=True)"
   ]
  }
 ],
 "metadata": {
  "kernelspec": {
   "display_name": "Python 3",
   "language": "python",
   "name": "python3"
  },
  "language_info": {
   "codemirror_mode": {
    "name": "ipython",
    "version": 3
   },
   "file_extension": ".py",
   "mimetype": "text/x-python",
   "name": "python",
   "nbconvert_exporter": "python",
   "pygments_lexer": "ipython3",
   "version": "3.6.1"
  },
  "latex_envs": {
   "LaTeX_envs_menu_present": true,
   "autoclose": false,
   "autocomplete": true,
   "bibliofile": "biblio.bib",
   "cite_by": "apalike",
   "current_citInitial": 1,
   "eqLabelWithNumbers": true,
   "eqNumInitial": 1,
   "hotkeys": {
    "equation": "Ctrl-E",
    "itemize": "Ctrl-I"
   },
   "labels_anchors": false,
   "latex_user_defs": false,
   "report_style_numbering": false,
   "user_envs_cfg": false
  },
  "toc": {
   "base_numbering": 1,
   "nav_menu": {},
   "number_sections": true,
   "sideBar": true,
   "skip_h1_title": false,
   "title_cell": "Table of Contents",
   "title_sidebar": "Contents",
   "toc_cell": false,
   "toc_position": {},
   "toc_section_display": true,
   "toc_window_display": false
  }
 },
 "nbformat": 4,
 "nbformat_minor": 2
}
