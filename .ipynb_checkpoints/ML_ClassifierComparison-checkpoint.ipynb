{
 "cells": [
  {
   "cell_type": "code",
   "execution_count": 51,
   "metadata": {},
   "outputs": [],
   "source": [
    "import matplotlib.pyplot as plt\n",
    "from sklearn.neighbors import LocalOutlierFactor"
   ]
  },
  {
   "cell_type": "code",
   "execution_count": 65,
   "metadata": {},
   "outputs": [
    {
     "name": "stdout",
     "output_type": "stream",
     "text": [
      "changed csv:  data_20190303_1035_0.csv\n",
      "['data_20190301_1035_2.csv', 'data_20190303_1035_1.csv', 'data_20190309_1008_3.csv', 'data_20190309_1334_3.csv', 'data_20190309_1336_3.csv', 'data_20190309_1342_2.csv', 'data_20190309_1358_2.csv', 'data_20190309_1405_2.csv', 'data_20190309_1409_1.csv', 'data_20190309_1411_1.csv', 'data_20190309_1413_1.csv']\n"
     ]
    }
   ],
   "source": [
    "import pandas as pd\n",
    "import os\n",
    "import numpy as np\n",
    "\n",
    "# file_dir = os.getcwd()\n",
    "# raw_data_dir = os.path.join(file_dir, '/raw_data')\n",
    "file_list = []\n",
    "\n",
    "for root, dirs, files in os.walk('./raw_data'):\n",
    "    for file in files:\n",
    "        if os.path.splitext(file)[1] == '.csv':\n",
    "        # 排除掉readme.md等非csv文件\n",
    "            file_list.append(file)\n",
    "\n",
    "# print(file_list)  \n",
    "\n",
    "df = pd.DataFrame()\n",
    "\n",
    "for index, csv in enumerate(file_list):\n",
    "    \n",
    "    df_temp = pd.read_csv('./raw_data/'+csv)\n",
    "    if int(csv[-5]) == 0:\n",
    "        file_list[index] = csv[:-5] + '1' +csv[-4:]\n",
    "        print('changed csv: ', csv)\n",
    "    target_column = pd.DataFrame(np.array([int(file_list[index][-5])]*df_temp.shape[0]))\n",
    "    # 一开始写int(csv[-5])，是个bug！因为虽然修改了file_list但是循环过程中csv还是那个csv\n",
    "    # 构造target列，注意要使用二维的array [[1],[1]]这样是列 [[1,1]]这样是行\n",
    "    df_temp = pd.concat([df_temp, target_column], axis=1, ignore_index=True)\n",
    "    # 连接样本和target列\n",
    "    df = pd.concat([df, df_temp], ignore_index=True)\n",
    "    # 连接所有样本\n",
    "    \n",
    "print(file_list)"
   ]
  },
  {
   "cell_type": "code",
   "execution_count": 67,
   "metadata": {},
   "outputs": [],
   "source": [
    "target_column = df.iloc[:, -1]\n",
    "df = df.iloc[:, :-1]\n",
    "\n",
    "# 让脸部温度单独保存，环境温度设计为统一值\n",
    "ta = df.min(axis=1)\n",
    "\n",
    "df_face = pd.DataFrame()\n",
    "# df_face 脸部温度+其他区域温度置换为环境温度\n",
    "df_onlyface = pd.DataFrame()\n",
    "# df_onlyface 只有脸部温度点\n",
    "\n",
    "for i, minTa in zip(df.values, ta):\n",
    "    face = []\n",
    "    onlyface = []\n",
    "    for j in i:\n",
    "        try:\n",
    "        # 因为检查到有一些数字不是float是str，像21.42346.1，不知是什么原因导致的，\n",
    "            if j - minTa > 7:\n",
    "                face.append(j)\n",
    "#                 onlyface.append(j)\n",
    "            else:\n",
    "                face.append(minTa)\n",
    "        except:\n",
    "            j = float(j[:6])\n",
    "            if j - minTa > 7:\n",
    "                face.append(j)\n",
    "#                 onlyface.append(j)\n",
    "            else:\n",
    "                face.append(minTa)\n",
    "    face_todf = pd.DataFrame(face).T\n",
    "#     onlyface_todf = pd.DataFrame(onlyface).T\n",
    "    df_face = pd.concat([df_face, face_todf], axis = 0, ignore_index=True)\n",
    "#     df_onlyface = pd.concat([df_onlyface, onlyface_todf], axis = 0, ignore_index=True)"
   ]
  },
  {
   "cell_type": "code",
   "execution_count": 68,
   "metadata": {},
   "outputs": [],
   "source": [
    "# fit the model for outlier detection (default)\n",
    "clf = LocalOutlierFactor(n_neighbors=40, contamination=0.05)\n",
    "# use fit_predict to compute the predicted labels of the training samples\n",
    "# (when LOF is used for outlier detection, the estimator has no predict,\n",
    "# decision_function and score_samples methods).\n",
    "y_pred = clf.fit_predict(df_face)\n",
    "# n_errors = (y_pred != ground_truth).sum()\n",
    "X_scores = clf.negative_outlier_factor_"
   ]
  },
  {
   "cell_type": "code",
   "execution_count": 69,
   "metadata": {},
   "outputs": [],
   "source": [
    "min_index = np.argpartition(X_scores, int(df_face.shape[0]*0.05))[:int(df_face.shape[0]*0.05)]\n",
    "\n",
    "# 去除掉5%的异常样本\n",
    "df = df.drop(min_index)"
   ]
  },
  {
   "cell_type": "code",
   "execution_count": 70,
   "metadata": {
    "scrolled": true
   },
   "outputs": [],
   "source": [
    "target_column = target_column.iloc[df.index]\n",
    "# features是重新生成的，不是原来df的index"
   ]
  },
  {
   "cell_type": "code",
   "execution_count": 72,
   "metadata": {},
   "outputs": [],
   "source": [
    "for i, minTa in zip(df.values, ta):\n",
    "#     face = []\n",
    "    onlyface = []\n",
    "    for j in i:\n",
    "        try:\n",
    "        # 因为检查到有一些数字不是float是str，像21.42346.1，不知是什么原因导致的，\n",
    "            if j - minTa > 7:\n",
    "#                 face.append(j)\n",
    "                onlyface.append(j)\n",
    "#             else:\n",
    "#                 face.append(minTa)\n",
    "        except:\n",
    "            j = float(j[:6])\n",
    "            if j - minTa > 7:\n",
    "#                 face.append(j)\n",
    "                onlyface.append(j)\n",
    "#             else:\n",
    "#                 face.append(minTa)\n",
    "#     face_todf = pd.DataFrame(face).T\n",
    "    onlyface_todf = pd.DataFrame(onlyface).T\n",
    "#     df_face = pd.concat([df_face, face_todf], axis = 0, ignore_index=True)\n",
    "    df_onlyface = pd.concat([df_onlyface, onlyface_todf], axis = 0, ignore_index=True)"
   ]
  },
  {
   "cell_type": "code",
   "execution_count": 73,
   "metadata": {},
   "outputs": [],
   "source": [
    "skewness = pd.DataFrame(df_onlyface.skew(axis=1))\n",
    "maxTemp = pd.DataFrame(df_onlyface.max(axis=1))\n",
    "minTemp = pd.DataFrame(df_onlyface.min(axis=1))\n",
    "meanTemp = pd.DataFrame(df_onlyface.mean(axis=1))"
   ]
  },
  {
   "cell_type": "code",
   "execution_count": 74,
   "metadata": {},
   "outputs": [],
   "source": [
    "# 指定划分bin的点\n",
    "bins = [28.3, 28.6, 28.9, 29.2, 29.5,\n",
    " 29.8, 30.1, 30.4, 30.7, 31.0,  31.3,\n",
    " 31.6, 31.9, 32.2, 32.5,  32.8, 33.1,\n",
    " 33.4, 33.7, 34.0,  34.3, 34.6, 34.9,\n",
    " 35.2, 35.5, 35.8, 36.1, 36.4, 36.7]\n",
    "\n",
    "highest_bin_list = []\n",
    "for i in df_onlyface.values:\n",
    "    i = [j for j in i if not np.isnan(j)]\n",
    "    N, _ = np.histogram(np.clip(i,28.3,36.7), bins=bins)\n",
    "    highest_bin = (bins[N.argmax()]+bins[N.argmax()+1])/2\n",
    "    # 返回各区域频数N\n",
    "    highest_bin_list.append(highest_bin)\n",
    "\n",
    "modeTemp = pd.DataFrame(highest_bin_list, index=df_onlyface.index)"
   ]
  },
  {
   "cell_type": "code",
   "execution_count": 75,
   "metadata": {},
   "outputs": [],
   "source": [
    "features = pd.concat([skewness, maxTemp, minTemp, meanTemp, modeTemp, ta], axis=1, join=\"inner\")\n",
    "features.columns = ['skewness', 'maxTemp', 'minTemp', 'meanTemp', 'modeTemp', 'ta']"
   ]
  },
  {
   "cell_type": "code",
   "execution_count": 76,
   "metadata": {
    "scrolled": false
   },
   "outputs": [
    {
     "data": {
      "image/png": "[encoded data removed]",
      "text/plain": [
       "<Figure size 720x720 with 2 Axes>"
      ]
     },
     "metadata": {},
     "output_type": "display_data"
    }
   ],
   "source": [
    "import seaborn as sns\n",
    "import matplotlib.pyplot as plt\n",
    "\n",
    "featuresCorr = features.corr()\n",
    "fig = plt.figure(figsize=(10, 10))\n",
    "# plt.subplots((1,1,1)) # 设置画面大小\n",
    "sns.heatmap(featuresCorr, annot=True, vmax=1, square=True)\n",
    "plt.show()"
   ]
  },
  {
   "cell_type": "code",
   "execution_count": 77,
   "metadata": {
    "scrolled": true
   },
   "outputs": [],
   "source": [
    "features = features.drop([\"maxTemp\", \"minTemp\"], axis=1)"
   ]
  },
  {
   "cell_type": "code",
   "execution_count": 78,
   "metadata": {},
   "outputs": [],
   "source": [
    "from sklearn.preprocessing import StandardScaler\n",
    "\n",
    "std = StandardScaler()\n",
    "features_scaler = std.fit_transform(features)"
   ]
  },
  {
   "cell_type": "code",
   "execution_count": 79,
   "metadata": {},
   "outputs": [
    {
     "data": {
      "text/plain": [
       "Int64Index([  0,   1,   2,   3,   4,   5,   6,   7,   8,   9,\n",
       "            ...\n",
       "            752, 753, 754, 755, 756, 757, 758, 759, 760, 761],\n",
       "           dtype='int64', length=726)"
      ]
     },
     "execution_count": 79,
     "metadata": {},
     "output_type": "execute_result"
    }
   ],
   "source": [
    "df.index"
   ]
  },
  {
   "cell_type": "code",
   "execution_count": 80,
   "metadata": {},
   "outputs": [],
   "source": [
    "from sklearn.model_selection import train_test_split\n",
    "\n",
    "train = features_scaler\n",
    "target = target_column.values\n",
    "\n",
    "train_X,test_X, train_y, test_y = train_test_split(train,\n",
    "                                                   target,\n",
    "                                                   test_size = 0.1,\n",
    "                                                   random_state = 0)"
   ]
  },
  {
   "cell_type": "code",
   "execution_count": 81,
   "metadata": {},
   "outputs": [
    {
     "name": "stdout",
     "output_type": "stream",
     "text": [
      "KNeighborsClassifier(algorithm='auto', leaf_size=30, metric='minkowski',\n",
      "           metric_params=None, n_jobs=1, n_neighbors=3, p=2,\n",
      "           weights='uniform') \n",
      " [0.69230769 0.75       0.82608696] \n",
      "\n",
      "SVC(C=0.025, cache_size=200, class_weight=None, coef0=0.0,\n",
      "  decision_function_shape='ovr', degree=3, gamma='auto', kernel='linear',\n",
      "  max_iter=-1, probability=False, random_state=None, shrinking=True,\n",
      "  tol=0.001, verbose=False) \n",
      " [0.57692308 0.83333333 0.82608696] \n",
      "\n",
      "SVC(C=1, cache_size=200, class_weight=None, coef0=0.0,\n",
      "  decision_function_shape='ovr', degree=3, gamma=2, kernel='rbf',\n",
      "  max_iter=-1, probability=False, random_state=None, shrinking=True,\n",
      "  tol=0.001, verbose=False) \n",
      " [0.80769231 0.83333333 0.86956522] \n",
      "\n",
      "GaussianProcessClassifier(copy_X_train=True,\n",
      "             kernel=1**2 * RBF(length_scale=1), max_iter_predict=100,\n",
      "             multi_class='one_vs_rest', n_jobs=1, n_restarts_optimizer=0,\n",
      "             optimizer='fmin_l_bfgs_b', random_state=None,\n",
      "             warm_start=False) \n",
      " [0.88461538 0.875      0.91304348] \n",
      "\n",
      "DecisionTreeClassifier(class_weight=None, criterion='gini', max_depth=5,\n",
      "            max_features=None, max_leaf_nodes=None,\n",
      "            min_impurity_decrease=0.0, min_impurity_split=None,\n",
      "            min_samples_leaf=1, min_samples_split=2,\n",
      "            min_weight_fraction_leaf=0.0, presort=False, random_state=None,\n",
      "            splitter='best') \n",
      " [0.92307692 0.95833333 0.82608696] \n",
      "\n",
      "RandomForestClassifier(bootstrap=True, class_weight=None, criterion='gini',\n",
      "            max_depth=5, max_features=1, max_leaf_nodes=None,\n",
      "            min_impurity_decrease=0.0, min_impurity_split=None,\n",
      "            min_samples_leaf=1, min_samples_split=2,\n",
      "            min_weight_fraction_leaf=0.0, n_estimators=10, n_jobs=1,\n",
      "            oob_score=False, random_state=None, verbose=0,\n",
      "            warm_start=False) \n",
      " [0.73076923 0.83333333 0.73913043] \n",
      "\n",
      "MLPClassifier(activation='relu', alpha=1, batch_size='auto', beta_1=0.9,\n",
      "       beta_2=0.999, early_stopping=False, epsilon=1e-08,\n",
      "       hidden_layer_sizes=(100,), learning_rate='constant',\n",
      "       learning_rate_init=0.001, max_iter=2000, momentum=0.9,\n",
      "       nesterovs_momentum=True, power_t=0.5, random_state=None,\n",
      "       shuffle=True, solver='adam', tol=0.0001, validation_fraction=0.1,\n",
      "       verbose=False, warm_start=False) \n",
      " [0.69230769 0.79166667 0.86956522] \n",
      "\n",
      "AdaBoostClassifier(algorithm='SAMME.R', base_estimator=None,\n",
      "          learning_rate=1.0, n_estimators=50, random_state=None) \n",
      " [0.57692308 0.79166667 0.82608696] \n",
      "\n"
     ]
    }
   ],
   "source": [
    "from matplotlib.colors import ListedColormap\n",
    "from sklearn.model_selection import train_test_split\n",
    "from sklearn.preprocessing import StandardScaler\n",
    "from sklearn.datasets import make_moons, make_circles, make_classification\n",
    "from sklearn.neural_network import MLPClassifier\n",
    "from sklearn.neighbors import KNeighborsClassifier\n",
    "from sklearn.svm import SVC\n",
    "from sklearn.gaussian_process import GaussianProcessClassifier\n",
    "from sklearn.gaussian_process.kernels import RBF\n",
    "from sklearn.tree import DecisionTreeClassifier\n",
    "from sklearn.ensemble import RandomForestClassifier, AdaBoostClassifier\n",
    "from sklearn.naive_bayes import GaussianNB\n",
    "from sklearn.discriminant_analysis import QuadraticDiscriminantAnalysis\n",
    "from sklearn.model_selection import cross_val_score\n",
    "\n",
    "names = [\"Nearest Neighbors\", \"Linear SVM\", \"RBF SVM\", \"Gaussian Process\",\n",
    "         \"Decision Tree\", \"Random Forest\", \"Neural Net\", \"AdaBoost\",\n",
    "         \"Naive Bayes\", \"QDA\"]\n",
    "\n",
    "classifiers = [\n",
    "    KNeighborsClassifier(3),\n",
    "    SVC(kernel=\"linear\", C=0.025),\n",
    "    SVC(gamma=2, C=1),\n",
    "    GaussianProcessClassifier(1.0 * RBF(1.0)),\n",
    "    DecisionTreeClassifier(max_depth=5),\n",
    "    RandomForestClassifier(max_depth=5, n_estimators=10, max_features=1),\n",
    "    MLPClassifier(alpha=1, max_iter=2000),\n",
    "    AdaBoostClassifier(),\n",
    "#     GaussianNB(),\n",
    "#     QuadraticDiscriminantAnalysis()\n",
    "]\n",
    "\n",
    "for i in classifiers:\n",
    "    i.fit(train_X, train_y)\n",
    "    print(i, '\\n', cross_val_score(i, test_X, test_y), '\\n')"
   ]
  },
  {
   "cell_type": "markdown",
   "metadata": {},
   "source": [
    "GaussianProcessClassifier和DecisionTreeClassifier表现比较优异"
   ]
  }
 ],
 "metadata": {
  "kernelspec": {
   "display_name": "Python 3",
   "language": "python",
   "name": "python3"
  },
  "language_info": {
   "codemirror_mode": {
    "name": "ipython",
    "version": 3
   },
   "file_extension": ".py",
   "mimetype": "text/x-python",
   "name": "python",
   "nbconvert_exporter": "python",
   "pygments_lexer": "ipython3",
   "version": "3.6.5"
  },
  "latex_envs": {
   "LaTeX_envs_menu_present": true,
   "autoclose": false,
   "autocomplete": true,
   "bibliofile": "biblio.bib",
   "cite_by": "apalike",
   "current_citInitial": 1,
   "eqLabelWithNumbers": true,
   "eqNumInitial": 1,
   "hotkeys": {
    "equation": "Ctrl-E",
    "itemize": "Ctrl-I"
   },
   "labels_anchors": false,
   "latex_user_defs": false,
   "report_style_numbering": false,
   "user_envs_cfg": false
  },
  "toc": {
   "base_numbering": 1,
   "nav_menu": {},
   "number_sections": true,
   "sideBar": true,
   "skip_h1_title": false,
   "title_cell": "Table of Contents",
   "title_sidebar": "Contents",
   "toc_cell": false,
   "toc_position": {},
   "toc_section_display": true,
   "toc_window_display": false
  }
 },
 "nbformat": 4,
 "nbformat_minor": 2
}
