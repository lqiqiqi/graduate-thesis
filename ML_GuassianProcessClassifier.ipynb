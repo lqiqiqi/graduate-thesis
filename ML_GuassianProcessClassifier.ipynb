{
 "cells": [
  {
   "cell_type": "code",
   "execution_count": 34,
   "metadata": {},
   "outputs": [],
   "source": [
    "import matplotlib.pyplot as plt\n",
    "from sklearn.neighbors import LocalOutlierFactor"
   ]
  },
  {
   "cell_type": "code",
   "execution_count": 35,
   "metadata": {},
   "outputs": [
    {
     "name": "stdout",
     "output_type": "stream",
     "text": [
      "changed csv:  data_20190303_1035_0.csv\n",
      "['data_20190301_1035_2.csv', 'data_20190303_1035_1.csv', 'data_20190309_1008_3.csv', 'data_20190309_1334_3.csv', 'data_20190309_1336_3.csv', 'data_20190309_1342_2.csv', 'data_20190309_1358_2.csv', 'data_20190309_1405_2.csv', 'data_20190309_1409_1.csv', 'data_20190309_1411_1.csv', 'data_20190309_1413_1.csv']\n"
     ]
    }
   ],
   "source": [
    "import pandas as pd\n",
    "import os\n",
    "import numpy as np\n",
    "\n",
    "# file_dir = os.getcwd()\n",
    "# raw_data_dir = os.path.join(file_dir, '/raw_data')\n",
    "file_list = []\n",
    "\n",
    "for root, dirs, files in os.walk('./raw_data'):\n",
    "    for file in files:\n",
    "        if os.path.splitext(file)[1] == '.csv':\n",
    "        # 排除掉readme.md等非csv文件\n",
    "            file_list.append(file)\n",
    "\n",
    "# print(file_list)  \n",
    "\n",
    "df = pd.DataFrame()\n",
    "\n",
    "for index, csv in enumerate(file_list):\n",
    "    \n",
    "    df_temp = pd.read_csv('./raw_data/'+csv)\n",
    "    if int(csv[-5]) == 0:\n",
    "        file_list[index] = csv[:-5] + '1' +csv[-4:]\n",
    "        print('changed csv: ', csv)\n",
    "    target_column = pd.DataFrame(np.array([int(file_list[index][-5])]*df_temp.shape[0]))\n",
    "    # 构造target列，注意要使用二维的array [[1],[1]]这样是列 [[1,1]]这样是行\n",
    "    df_temp = pd.concat([df_temp, target_column], axis=1, ignore_index=True)\n",
    "    # 连接样本和target列\n",
    "    df = pd.concat([df, df_temp], ignore_index=True)\n",
    "    # 连接所有样本\n",
    "    \n",
    "print(file_list)"
   ]
  },
  {
   "cell_type": "code",
   "execution_count": 36,
   "metadata": {
    "scrolled": true
   },
   "outputs": [
    {
     "name": "stdout",
     "output_type": "stream",
     "text": [
      "          0         1         2         3         4         5         6    \\\n",
      "0    22.62949  23.34601  22.84607  24.27225  24.22751  24.99457  27.39221   \n",
      "1    23.16067  23.59763  25.04761  24.74619  27.40509  27.20163  28.14008   \n",
      "2    23.03558  24.24997  23.59360  24.87021  25.99951  27.53504  27.61453   \n",
      "3    22.25803  23.60641  22.50025  24.63440  23.02280  26.32965  24.39380   \n",
      "4    22.11905  23.36346  22.37064  22.95017  22.00073  22.74686  22.73328   \n",
      "..        ...       ...       ...       ...       ...       ...       ...   \n",
      "759  25.18289  25.38110  25.18024  25.48029  25.63098  25.73325  24.86350   \n",
      "760  25.06046  25.24048  25.53430  24.99799  25.09933  24.95724  25.81555   \n",
      "761  24.67053  24.99020  25.28839  25.46359  25.40866  24.84756  24.85449   \n",
      "762  25.29895  25.60233  25.40549  25.22012  24.87308  25.38123  25.17206   \n",
      "763  25.17365  25.10172  24.81860  25.33408  24.65823  24.94394  25.27774   \n",
      "\n",
      "          7         8         9   ...        759       760       761  \\\n",
      "0    26.94012  27.34689  27.80975 ...   25.27432  22.86929  22.75967   \n",
      "1    27.87192  28.14847  27.80102 ...   23.29489  22.53711  22.20065   \n",
      "2    28.60287  27.45639  27.70782 ...   22.45697  21.56348  22.20950   \n",
      "3    27.77655  26.36633  27.61267 ...   23.10901  21.89667  22.56369   \n",
      "4    22.88919  22.98193  23.40122 ...   23.62778  22.02560  21.54199   \n",
      "..        ...       ...       ... ...        ...       ...       ...   \n",
      "759  25.42084  25.64047  25.47333 ...   25.27060  23.98160  24.03442   \n",
      "760  25.19739  25.74136  25.16293 ...   24.87146  23.03009  24.03830   \n",
      "761  24.98889  25.43405  25.06406 ...   25.66187  23.23767  23.91659   \n",
      "762  25.29022  25.73035  25.05389 ...   27.25143  23.64246  24.23828   \n",
      "763  25.39166  25.43402  24.65769 ...   33.65805  24.15677  26.04568   \n",
      "\n",
      "          762       763       764       765       766       767  768  \n",
      "0    22.38684  22.88013  22.94119  22.99555  22.63037  23.33066    2  \n",
      "1    22.37799  22.64114  21.91843  22.99634  23.05240  22.60111    2  \n",
      "2    22.61514  22.40997  22.42819  22.61395  23.05298  23.48731    2  \n",
      "3    22.38712  22.90918  22.18204  22.10751  22.77466  23.50760    2  \n",
      "4    22.05508  22.78049  21.82272  22.62360  22.51157  23.20691    2  \n",
      "..        ...       ...       ...       ...       ...       ...  ...  \n",
      "759  24.19855  24.76816  24.14426  24.95731  24.59708  24.86298    1  \n",
      "760  23.95770  25.79822  22.66364  25.08643  24.03143  25.14664    1  \n",
      "761  24.18204  24.75763  23.88477  24.82208  24.30557  25.40750    1  \n",
      "762  24.05740  24.75720  24.23682  24.57175  24.56815  25.12949    1  \n",
      "763  23.48694  24.75809  23.01379  24.82254  23.73499  25.54645    1  \n",
      "\n",
      "[764 rows x 769 columns]\n"
     ]
    }
   ],
   "source": [
    "pd.set_option('display.max_rows', 10)\n",
    "print(df)"
   ]
  },
  {
   "cell_type": "code",
   "execution_count": 37,
   "metadata": {},
   "outputs": [],
   "source": [
    "target_column = df.iloc[:, -1]\n",
    "df = df.iloc[:, :-1]\n",
    "\n",
    "# 让脸部温度单独保存，环境温度设计为统一值\n",
    "ta = df.min(axis=1)\n",
    "\n",
    "df_face = pd.DataFrame()\n",
    "# df_face 脸部温度+其他区域温度置换为环境温度\n",
    "df_onlyface = pd.DataFrame()\n",
    "# df_onlyface 只有脸部温度点\n",
    "\n",
    "for i, minTa in zip(df.values, ta):\n",
    "    face = []\n",
    "    onlyface = []\n",
    "    for j in i:\n",
    "        try:\n",
    "        # 因为检查到有一些数字不是float是str，像21.42346.1，不知是什么原因导致的，\n",
    "            if j - minTa > 7:\n",
    "                face.append(j)\n",
    "#                 onlyface.append(j)\n",
    "            else:\n",
    "                face.append(minTa)\n",
    "                ave_ta ....\n",
    "        except:\n",
    "            j = float(j[:6])\n",
    "            if j - minTa > 7:\n",
    "                face.append(j)\n",
    "#                 onlyface.append(j)\n",
    "            else:\n",
    "                face.append(minTa)\n",
    "    face_todf = pd.DataFrame(face).T\n",
    "#     onlyface_todf = pd.DataFrame(onlyface).T\n",
    "    df_face = pd.concat([df_face, face_todf], axis = 0, ignore_index=True)\n",
    "#     df_onlyface = pd.concat([df_onlyface, onlyface_todf], axis = 0, ignore_index=True)"
   ]
  },
  {
   "cell_type": "code",
   "execution_count": 38,
   "metadata": {},
   "outputs": [],
   "source": [
    "# fit the model for outlier detection (default)\n",
    "clf = LocalOutlierFactor(n_neighbors=40, contamination=0.05)\n",
    "# use fit_predict to compute the predicted labels of the training samples\n",
    "# (when LOF is used for outlier detection, the estimator has no predict,\n",
    "# decision_function and score_samples methods).\n",
    "y_pred = clf.fit_predict(df_face)\n",
    "# n_errors = (y_pred != ground_truth).sum()\n",
    "X_scores = clf.negative_outlier_factor_"
   ]
  },
  {
   "cell_type": "code",
   "execution_count": 39,
   "metadata": {},
   "outputs": [],
   "source": [
    "min_index = np.argpartition(X_scores, int(df_face.shape[0]*0.05))[:int(df_face.shape[0]*0.05)]\n",
    "\n",
    "# 去除掉5%的异常样本\n",
    "df = df.drop(min_index)"
   ]
  },
  {
   "cell_type": "code",
   "execution_count": 40,
   "metadata": {
    "scrolled": true
   },
   "outputs": [
    {
     "data": {
      "text/html": [
       "<div>\n",
       "<style scoped>\n",
       "    .dataframe tbody tr th:only-of-type {\n",
       "        vertical-align: middle;\n",
       "    }\n",
       "\n",
       "    .dataframe tbody tr th {\n",
       "        vertical-align: top;\n",
       "    }\n",
       "\n",
       "    .dataframe thead th {\n",
       "        text-align: right;\n",
       "    }\n",
       "</style>\n",
       "<table border=\"1\" class=\"dataframe\">\n",
       "  <thead>\n",
       "    <tr style=\"text-align: right;\">\n",
       "      <th></th>\n",
       "      <th>0</th>\n",
       "      <th>1</th>\n",
       "      <th>2</th>\n",
       "      <th>3</th>\n",
       "      <th>4</th>\n",
       "      <th>5</th>\n",
       "      <th>6</th>\n",
       "      <th>7</th>\n",
       "      <th>8</th>\n",
       "      <th>9</th>\n",
       "      <th>...</th>\n",
       "      <th>758</th>\n",
       "      <th>759</th>\n",
       "      <th>760</th>\n",
       "      <th>761</th>\n",
       "      <th>762</th>\n",
       "      <th>763</th>\n",
       "      <th>764</th>\n",
       "      <th>765</th>\n",
       "      <th>766</th>\n",
       "      <th>767</th>\n",
       "    </tr>\n",
       "  </thead>\n",
       "  <tbody>\n",
       "    <tr>\n",
       "      <th>0</th>\n",
       "      <td>22.62949</td>\n",
       "      <td>23.34601</td>\n",
       "      <td>22.84607</td>\n",
       "      <td>24.27225</td>\n",
       "      <td>24.22751</td>\n",
       "      <td>24.99457</td>\n",
       "      <td>27.39221</td>\n",
       "      <td>26.94012</td>\n",
       "      <td>27.34689</td>\n",
       "      <td>27.80975</td>\n",
       "      <td>...</td>\n",
       "      <td>30.87418</td>\n",
       "      <td>25.27432</td>\n",
       "      <td>22.86929</td>\n",
       "      <td>22.75967</td>\n",
       "      <td>22.38684</td>\n",
       "      <td>22.88013</td>\n",
       "      <td>22.94119</td>\n",
       "      <td>22.99555</td>\n",
       "      <td>22.63037</td>\n",
       "      <td>23.33066</td>\n",
       "    </tr>\n",
       "    <tr>\n",
       "      <th>1</th>\n",
       "      <td>23.16067</td>\n",
       "      <td>23.59763</td>\n",
       "      <td>25.04761</td>\n",
       "      <td>24.74619</td>\n",
       "      <td>27.40509</td>\n",
       "      <td>27.20163</td>\n",
       "      <td>28.14008</td>\n",
       "      <td>27.87192</td>\n",
       "      <td>28.14847</td>\n",
       "      <td>27.80102</td>\n",
       "      <td>...</td>\n",
       "      <td>24.98102</td>\n",
       "      <td>23.29489</td>\n",
       "      <td>22.53711</td>\n",
       "      <td>22.20065</td>\n",
       "      <td>22.37799</td>\n",
       "      <td>22.64114</td>\n",
       "      <td>21.91843</td>\n",
       "      <td>22.99634</td>\n",
       "      <td>23.05240</td>\n",
       "      <td>22.60111</td>\n",
       "    </tr>\n",
       "    <tr>\n",
       "      <th>2</th>\n",
       "      <td>23.03558</td>\n",
       "      <td>24.24997</td>\n",
       "      <td>23.59360</td>\n",
       "      <td>24.87021</td>\n",
       "      <td>25.99951</td>\n",
       "      <td>27.53504</td>\n",
       "      <td>27.61453</td>\n",
       "      <td>28.60287</td>\n",
       "      <td>27.45639</td>\n",
       "      <td>27.70782</td>\n",
       "      <td>...</td>\n",
       "      <td>23.74487</td>\n",
       "      <td>22.45697</td>\n",
       "      <td>21.56348</td>\n",
       "      <td>22.20950</td>\n",
       "      <td>22.61514</td>\n",
       "      <td>22.40997</td>\n",
       "      <td>22.42819</td>\n",
       "      <td>22.61395</td>\n",
       "      <td>23.05298</td>\n",
       "      <td>23.48731</td>\n",
       "    </tr>\n",
       "    <tr>\n",
       "      <th>3</th>\n",
       "      <td>22.25803</td>\n",
       "      <td>23.60641</td>\n",
       "      <td>22.50025</td>\n",
       "      <td>24.63440</td>\n",
       "      <td>23.02280</td>\n",
       "      <td>26.32965</td>\n",
       "      <td>24.39380</td>\n",
       "      <td>27.77655</td>\n",
       "      <td>26.36633</td>\n",
       "      <td>27.61267</td>\n",
       "      <td>...</td>\n",
       "      <td>23.43933</td>\n",
       "      <td>23.10901</td>\n",
       "      <td>21.89667</td>\n",
       "      <td>22.56369</td>\n",
       "      <td>22.38712</td>\n",
       "      <td>22.90918</td>\n",
       "      <td>22.18204</td>\n",
       "      <td>22.10751</td>\n",
       "      <td>22.77466</td>\n",
       "      <td>23.50760</td>\n",
       "    </tr>\n",
       "    <tr>\n",
       "      <th>4</th>\n",
       "      <td>22.11905</td>\n",
       "      <td>23.36346</td>\n",
       "      <td>22.37064</td>\n",
       "      <td>22.95017</td>\n",
       "      <td>22.00073</td>\n",
       "      <td>22.74686</td>\n",
       "      <td>22.73328</td>\n",
       "      <td>22.88919</td>\n",
       "      <td>22.98193</td>\n",
       "      <td>23.40122</td>\n",
       "      <td>...</td>\n",
       "      <td>27.24207</td>\n",
       "      <td>23.62778</td>\n",
       "      <td>22.02560</td>\n",
       "      <td>21.54199</td>\n",
       "      <td>22.05508</td>\n",
       "      <td>22.78049</td>\n",
       "      <td>21.82272</td>\n",
       "      <td>22.62360</td>\n",
       "      <td>22.51157</td>\n",
       "      <td>23.20691</td>\n",
       "    </tr>\n",
       "    <tr>\n",
       "      <th>...</th>\n",
       "      <td>...</td>\n",
       "      <td>...</td>\n",
       "      <td>...</td>\n",
       "      <td>...</td>\n",
       "      <td>...</td>\n",
       "      <td>...</td>\n",
       "      <td>...</td>\n",
       "      <td>...</td>\n",
       "      <td>...</td>\n",
       "      <td>...</td>\n",
       "      <td>...</td>\n",
       "      <td>...</td>\n",
       "      <td>...</td>\n",
       "      <td>...</td>\n",
       "      <td>...</td>\n",
       "      <td>...</td>\n",
       "      <td>...</td>\n",
       "      <td>...</td>\n",
       "      <td>...</td>\n",
       "      <td>...</td>\n",
       "      <td>...</td>\n",
       "    </tr>\n",
       "    <tr>\n",
       "      <th>757</th>\n",
       "      <td>25.19186</td>\n",
       "      <td>25.50617</td>\n",
       "      <td>24.60077</td>\n",
       "      <td>25.48099</td>\n",
       "      <td>25.42655</td>\n",
       "      <td>25.19168</td>\n",
       "      <td>24.97824</td>\n",
       "      <td>25.31781</td>\n",
       "      <td>25.55066</td>\n",
       "      <td>25.57181</td>\n",
       "      <td>...</td>\n",
       "      <td>26.26749</td>\n",
       "      <td>25.68002</td>\n",
       "      <td>23.67194</td>\n",
       "      <td>23.71930</td>\n",
       "      <td>23.63513</td>\n",
       "      <td>24.54666</td>\n",
       "      <td>23.53793</td>\n",
       "      <td>24.08908</td>\n",
       "      <td>24.59927</td>\n",
       "      <td>24.73135</td>\n",
       "    </tr>\n",
       "    <tr>\n",
       "      <th>758</th>\n",
       "      <td>25.20230</td>\n",
       "      <td>25.74103</td>\n",
       "      <td>25.43356</td>\n",
       "      <td>25.23453</td>\n",
       "      <td>25.43646</td>\n",
       "      <td>25.61295</td>\n",
       "      <td>25.19971</td>\n",
       "      <td>25.40863</td>\n",
       "      <td>25.65897</td>\n",
       "      <td>25.95016</td>\n",
       "      <td>...</td>\n",
       "      <td>25.95581</td>\n",
       "      <td>25.19009</td>\n",
       "      <td>23.75998</td>\n",
       "      <td>23.94724</td>\n",
       "      <td>23.84430</td>\n",
       "      <td>24.44476</td>\n",
       "      <td>24.00742</td>\n",
       "      <td>24.72870</td>\n",
       "      <td>24.16724</td>\n",
       "      <td>24.74560</td>\n",
       "    </tr>\n",
       "    <tr>\n",
       "      <th>759</th>\n",
       "      <td>25.18289</td>\n",
       "      <td>25.38110</td>\n",
       "      <td>25.18024</td>\n",
       "      <td>25.48029</td>\n",
       "      <td>25.63098</td>\n",
       "      <td>25.73325</td>\n",
       "      <td>24.86350</td>\n",
       "      <td>25.42084</td>\n",
       "      <td>25.64047</td>\n",
       "      <td>25.47333</td>\n",
       "      <td>...</td>\n",
       "      <td>25.67252</td>\n",
       "      <td>25.27060</td>\n",
       "      <td>23.98160</td>\n",
       "      <td>24.03442</td>\n",
       "      <td>24.19855</td>\n",
       "      <td>24.76816</td>\n",
       "      <td>24.14426</td>\n",
       "      <td>24.95731</td>\n",
       "      <td>24.59708</td>\n",
       "      <td>24.86298</td>\n",
       "    </tr>\n",
       "    <tr>\n",
       "      <th>760</th>\n",
       "      <td>25.06046</td>\n",
       "      <td>25.24048</td>\n",
       "      <td>25.53430</td>\n",
       "      <td>24.99799</td>\n",
       "      <td>25.09933</td>\n",
       "      <td>24.95724</td>\n",
       "      <td>25.81555</td>\n",
       "      <td>25.19739</td>\n",
       "      <td>25.74136</td>\n",
       "      <td>25.16293</td>\n",
       "      <td>...</td>\n",
       "      <td>25.35944</td>\n",
       "      <td>24.87146</td>\n",
       "      <td>23.03009</td>\n",
       "      <td>24.03830</td>\n",
       "      <td>23.95770</td>\n",
       "      <td>25.79822</td>\n",
       "      <td>22.66364</td>\n",
       "      <td>25.08643</td>\n",
       "      <td>24.03143</td>\n",
       "      <td>25.14664</td>\n",
       "    </tr>\n",
       "    <tr>\n",
       "      <th>761</th>\n",
       "      <td>24.67053</td>\n",
       "      <td>24.99020</td>\n",
       "      <td>25.28839</td>\n",
       "      <td>25.46359</td>\n",
       "      <td>25.40866</td>\n",
       "      <td>24.84756</td>\n",
       "      <td>24.85449</td>\n",
       "      <td>24.98889</td>\n",
       "      <td>25.43405</td>\n",
       "      <td>25.06406</td>\n",
       "      <td>...</td>\n",
       "      <td>24.65985</td>\n",
       "      <td>25.66187</td>\n",
       "      <td>23.23767</td>\n",
       "      <td>23.91659</td>\n",
       "      <td>24.18204</td>\n",
       "      <td>24.75763</td>\n",
       "      <td>23.88477</td>\n",
       "      <td>24.82208</td>\n",
       "      <td>24.30557</td>\n",
       "      <td>25.40750</td>\n",
       "    </tr>\n",
       "  </tbody>\n",
       "</table>\n",
       "<p>726 rows × 768 columns</p>\n",
       "</div>"
      ],
      "text/plain": [
       "          0         1         2         3         4         5         6    \\\n",
       "0    22.62949  23.34601  22.84607  24.27225  24.22751  24.99457  27.39221   \n",
       "1    23.16067  23.59763  25.04761  24.74619  27.40509  27.20163  28.14008   \n",
       "2    23.03558  24.24997  23.59360  24.87021  25.99951  27.53504  27.61453   \n",
       "3    22.25803  23.60641  22.50025  24.63440  23.02280  26.32965  24.39380   \n",
       "4    22.11905  23.36346  22.37064  22.95017  22.00073  22.74686  22.73328   \n",
       "..        ...       ...       ...       ...       ...       ...       ...   \n",
       "757  25.19186  25.50617  24.60077  25.48099  25.42655  25.19168  24.97824   \n",
       "758  25.20230  25.74103  25.43356  25.23453  25.43646  25.61295  25.19971   \n",
       "759  25.18289  25.38110  25.18024  25.48029  25.63098  25.73325  24.86350   \n",
       "760  25.06046  25.24048  25.53430  24.99799  25.09933  24.95724  25.81555   \n",
       "761  24.67053  24.99020  25.28839  25.46359  25.40866  24.84756  24.85449   \n",
       "\n",
       "          7         8         9      ...          758       759       760  \\\n",
       "0    26.94012  27.34689  27.80975    ...     30.87418  25.27432  22.86929   \n",
       "1    27.87192  28.14847  27.80102    ...     24.98102  23.29489  22.53711   \n",
       "2    28.60287  27.45639  27.70782    ...     23.74487  22.45697  21.56348   \n",
       "3    27.77655  26.36633  27.61267    ...     23.43933  23.10901  21.89667   \n",
       "4    22.88919  22.98193  23.40122    ...     27.24207  23.62778  22.02560   \n",
       "..        ...       ...       ...    ...          ...       ...       ...   \n",
       "757  25.31781  25.55066  25.57181    ...     26.26749  25.68002  23.67194   \n",
       "758  25.40863  25.65897  25.95016    ...     25.95581  25.19009  23.75998   \n",
       "759  25.42084  25.64047  25.47333    ...     25.67252  25.27060  23.98160   \n",
       "760  25.19739  25.74136  25.16293    ...     25.35944  24.87146  23.03009   \n",
       "761  24.98889  25.43405  25.06406    ...     24.65985  25.66187  23.23767   \n",
       "\n",
       "          761       762       763       764       765       766       767  \n",
       "0    22.75967  22.38684  22.88013  22.94119  22.99555  22.63037  23.33066  \n",
       "1    22.20065  22.37799  22.64114  21.91843  22.99634  23.05240  22.60111  \n",
       "2    22.20950  22.61514  22.40997  22.42819  22.61395  23.05298  23.48731  \n",
       "3    22.56369  22.38712  22.90918  22.18204  22.10751  22.77466  23.50760  \n",
       "4    21.54199  22.05508  22.78049  21.82272  22.62360  22.51157  23.20691  \n",
       "..        ...       ...       ...       ...       ...       ...       ...  \n",
       "757  23.71930  23.63513  24.54666  23.53793  24.08908  24.59927  24.73135  \n",
       "758  23.94724  23.84430  24.44476  24.00742  24.72870  24.16724  24.74560  \n",
       "759  24.03442  24.19855  24.76816  24.14426  24.95731  24.59708  24.86298  \n",
       "760  24.03830  23.95770  25.79822  22.66364  25.08643  24.03143  25.14664  \n",
       "761  23.91659  24.18204  24.75763  23.88477  24.82208  24.30557  25.40750  \n",
       "\n",
       "[726 rows x 768 columns]"
      ]
     },
     "execution_count": 40,
     "metadata": {},
     "output_type": "execute_result"
    }
   ],
   "source": [
    "df"
   ]
  },
  {
   "cell_type": "code",
   "execution_count": null,
   "metadata": {},
   "outputs": [],
   "source": [
    "ta = ta.iloc[df.index]"
   ]
  },
  {
   "cell_type": "code",
   "execution_count": 44,
   "metadata": {
    "scrolled": true
   },
   "outputs": [],
   "source": [
    "ta.index = np.arange(ta.shape[0])"
   ]
  },
  {
   "cell_type": "code",
   "execution_count": 45,
   "metadata": {},
   "outputs": [],
   "source": [
    "for i, minTa in zip(df.values, ta):\n",
    "#     face = []\n",
    "    onlyface = []\n",
    "    for j in i:\n",
    "        try:\n",
    "        # 因为检查到有一些数字不是float是str，像21.42346.1，不知是什么原因导致的，\n",
    "            if j - minTa > 7:\n",
    "#                 face.append(j)\n",
    "                onlyface.append(j)\n",
    "#             else:\n",
    "#                 face.append(minTa)\n",
    "        except:\n",
    "            j = float(j[:6])\n",
    "            if j - minTa > 7:\n",
    "#                 face.append(j)\n",
    "                onlyface.append(j)\n",
    "#             else:\n",
    "#                 face.append(minTa)\n",
    "#     face_todf = pd.DataFrame(face).T\n",
    "    onlyface_todf = pd.DataFrame(onlyface).T\n",
    "#     df_face = pd.concat([df_face, face_todf], axis = 0, ignore_index=True)\n",
    "    df_onlyface = pd.concat([df_onlyface, onlyface_todf], axis = 0, ignore_index=True)"
   ]
  },
  {
   "cell_type": "code",
   "execution_count": 46,
   "metadata": {},
   "outputs": [],
   "source": [
    "skewness = pd.DataFrame(df_onlyface.skew(axis=1))\n",
    "maxTemp = pd.DataFrame(df_onlyface.max(axis=1))\n",
    "minTemp = pd.DataFrame(df_onlyface.min(axis=1))\n",
    "meanTemp = pd.DataFrame(df_onlyface.mean(axis=1))"
   ]
  },
  {
   "cell_type": "code",
   "execution_count": 47,
   "metadata": {},
   "outputs": [],
   "source": [
    "# 指定划分bin的点\n",
    "bins = [28.3, 28.6, 28.9, 29.2, 29.5,\n",
    " 29.8, 30.1, 30.4, 30.7, 31.0,  31.3,\n",
    " 31.6, 31.9, 32.2, 32.5,  32.8, 33.1,\n",
    " 33.4, 33.7, 34.0,  34.3, 34.6, 34.9,\n",
    " 35.2, 35.5, 35.8, 36.1, 36.4, 36.7]\n",
    "\n",
    "highest_bin_list = []\n",
    "for i in df_onlyface.values:\n",
    "    i = [j for j in i if not np.isnan(j)]\n",
    "    N, _ = np.histogram(np.clip(i,28.3,36.7), bins=bins)\n",
    "    highest_bin = (bins[N.argmax()]+bins[N.argmax()+1])/2\n",
    "    # 返回各区域频数N\n",
    "    highest_bin_list.append(highest_bin)\n",
    "\n",
    "modeTemp = pd.DataFrame(highest_bin_list, index=df_onlyface.index)"
   ]
  },
  {
   "cell_type": "code",
   "execution_count": 48,
   "metadata": {},
   "outputs": [],
   "source": [
    "features = pd.concat([skewness, maxTemp, minTemp, meanTemp, modeTemp, ta], axis=1)\n",
    "features.columns = ['skewness', 'maxTemp', 'minTemp', 'meanTemp', 'modeTemp', 'ta']"
   ]
  },
  {
   "cell_type": "code",
   "execution_count": 49,
   "metadata": {},
   "outputs": [],
   "source": [
    "features['max_minus_min'] = features['maxTemp'] - features['minTemp']\n",
    "features['mode_minus_ta'] = features['modeTemp'] - features['ta']\n",
    "# features['mean_minus_ta'] = features['meanTemp'] - features['ta']\n",
    "# features['max_minus_ta'] = features['maxTemp'] - features['ta']\n",
    "features['min_minus_ta'] = features['minTemp'] - features['ta']\n",
    "# features['mode_minus_min'] = features['modeTemp'] - features['minTemp']\n",
    "# features['mean_minus_min'] = features['meanTemp'] - features['minTemp']\n",
    "# features['max_minus_mean'] = features['maxTemp'] - features['meanTemp']\n",
    "# features['mode_squa'] = features['modeTemp'] ** 2\n",
    "# features['mean_squa'] = features['meanTemp'] ** 2\n",
    "# features['max_squa'] = features['maxTemp'] ** 2\n",
    "# features['mode_cub'] = features['modeTemp'] ** 3\n",
    "# features['mean_cub'] = features['meanTemp'] ** 3\n",
    "# features['max_cub'] = features['maxTemp'] ** 3\n",
    "features = features.drop([\"minTemp\"], axis=1)"
   ]
  },
  {
   "cell_type": "code",
   "execution_count": 50,
   "metadata": {
    "scrolled": false
   },
   "outputs": [
    {
     "data": {
      "image/png": "[encoded data removed]",
      "text/plain": [
       "<Figure size 1440x1440 with 2 Axes>"
      ]
     },
     "metadata": {},
     "output_type": "display_data"
    }
   ],
   "source": [
    "import seaborn as sns\n",
    "import matplotlib.pyplot as plt\n",
    "\n",
    "featuresCorr = features.corr('spearman')\n",
    "fig = plt.figure(figsize=(20, 20))\n",
    "# plt.subplots((1,1,1)) # 设置画面大小\n",
    "sns.heatmap(featuresCorr, annot=True, vmax=1, square=True)\n",
    "plt.show()"
   ]
  },
  {
   "cell_type": "code",
   "execution_count": 51,
   "metadata": {},
   "outputs": [],
   "source": [
    "from sklearn.preprocessing import StandardScaler\n",
    "\n",
    "std = StandardScaler()\n",
    "features_scaler = std.fit_transform(features)"
   ]
  },
  {
   "cell_type": "code",
   "execution_count": 52,
   "metadata": {},
   "outputs": [],
   "source": [
    "target_column = target_column.iloc[df.index]"
   ]
  },
  {
   "cell_type": "code",
   "execution_count": 53,
   "metadata": {},
   "outputs": [
    {
     "data": {
      "text/plain": [
       "(726, 8)"
      ]
     },
     "execution_count": 53,
     "metadata": {},
     "output_type": "execute_result"
    }
   ],
   "source": [
    "features_scaler.shape"
   ]
  },
  {
   "cell_type": "code",
   "execution_count": 54,
   "metadata": {},
   "outputs": [
    {
     "data": {
      "text/plain": [
       "(726,)"
      ]
     },
     "execution_count": 54,
     "metadata": {},
     "output_type": "execute_result"
    }
   ],
   "source": [
    "target_column.shape"
   ]
  },
  {
   "cell_type": "code",
   "execution_count": 55,
   "metadata": {},
   "outputs": [],
   "source": [
    "from sklearn.model_selection import train_test_split\n",
    "\n",
    "train = features_scaler\n",
    "target = target_column.values\n",
    "\n",
    "train_X,test_X, train_y, test_y = train_test_split(train,\n",
    "                                                   target,\n",
    "                                                   test_size = 0.1,\n",
    "                                                   random_state = 0)"
   ]
  },
  {
   "cell_type": "code",
   "execution_count": 59,
   "metadata": {},
   "outputs": [
    {
     "name": "stdout",
     "output_type": "stream",
     "text": [
      "[0.1647388  0.08745432 0.16251091 0.07479519 0.1882895  0.18536004\n",
      " 0.10174216 0.03510908]\n",
      "Index(['skewness', 'meanTemp', 'ta', 'max_minus_min'], dtype='object')\n"
     ]
    },
    {
     "name": "stderr",
     "output_type": "stream",
     "text": [
      "E:\\anaconda\\envs\\tensorflow\\lib\\site-packages\\sklearn\\ensemble\\forest.py:246: FutureWarning: The default value of n_estimators will change from 10 in version 0.20 to 100 in 0.22.\n",
      "  \"10 in version 0.20 to 100 in 0.22.\", FutureWarning)\n"
     ]
    }
   ],
   "source": [
    "from sklearn.feature_selection import SelectFromModel\n",
    "from sklearn.ensemble import ExtraTreesClassifier\n",
    "clf = ExtraTreesClassifier()\n",
    "clf = clf.fit(train_X, train_y)\n",
    "print(clf.feature_importances_ )\n",
    "\n",
    "model = SelectFromModel(clf, prefit=True)\n",
    "print(features.columns[model.get_support(indices=True)])\n",
    "# print(model.get_support(indices=True))\n",
    "X_new = model.transform(train_X)"
   ]
  },
  {
   "cell_type": "code",
   "execution_count": 60,
   "metadata": {},
   "outputs": [
    {
     "data": {
      "text/plain": [
       "GaussianProcessClassifier(copy_X_train=True,\n",
       "             kernel=1**2 * RBF(length_scale=1), max_iter_predict=500,\n",
       "             multi_class='one_vs_rest', n_jobs=-1, n_restarts_optimizer=5,\n",
       "             optimizer='fmin_l_bfgs_b', random_state=1, warm_start=True)"
      ]
     },
     "execution_count": 60,
     "metadata": {},
     "output_type": "execute_result"
    }
   ],
   "source": [
    "from sklearn.gaussian_process.kernels import RBF\n",
    "from sklearn.gaussian_process import GaussianProcessClassifier\n",
    "\n",
    "gpc = GaussianProcessClassifier(1.0 * RBF(1.0), max_iter_predict=500, n_restarts_optimizer=5, warm_start=True, random_state=1, multi_class='one_vs_rest', n_jobs=-1)\n",
    "gpc.fit(X_new, train_y)"
   ]
  },
  {
   "cell_type": "code",
   "execution_count": 63,
   "metadata": {},
   "outputs": [
    {
     "name": "stdout",
     "output_type": "stream",
     "text": [
      "98.63\n"
     ]
    },
    {
     "name": "stderr",
     "output_type": "stream",
     "text": [
      "E:\\anaconda\\envs\\tensorflow\\lib\\site-packages\\sklearn\\model_selection\\_split.py:2053: FutureWarning: You should specify a value for 'cv' instead of relying on the default value. The default value will change from 3 to 5 in version 0.22.\n",
      "  warnings.warn(CV_WARNING, FutureWarning)\n"
     ]
    },
    {
     "data": {
      "text/plain": [
       "array([0.88461538, 0.875     , 0.95652174])"
      ]
     },
     "execution_count": 63,
     "metadata": {},
     "output_type": "execute_result"
    }
   ],
   "source": [
    "test_X_com = np.concatenate((test_X[:, 0].reshape(-1,1), test_X[:, 2].reshape(-1,1), test_X[:, 4:6]), axis=1)\n",
    "\n",
    "gpc_score = round(gpc.score(test_X_com, test_y) * 100, 2)\n",
    "print(gpc_score)\n",
    "\n",
    "from sklearn.model_selection import cross_val_score\n",
    "cross_val_score(gpc, test_X_com, test_y)"
   ]
  },
  {
   "cell_type": "code",
   "execution_count": 20,
   "metadata": {},
   "outputs": [
    {
     "data": {
      "text/plain": [
       "-123.73796363139941"
      ]
     },
     "execution_count": 20,
     "metadata": {},
     "output_type": "execute_result"
    }
   ],
   "source": [
    "gpc.log_marginal_likelihood()"
   ]
  },
  {
   "cell_type": "code",
   "execution_count": 62,
   "metadata": {},
   "outputs": [
    {
     "ename": "TypeError",
     "evalue": "predict() got an unexpected keyword argument 'return_std'",
     "output_type": "error",
     "traceback": [
      "\u001b[1;31m---------------------------------------------------------------------------\u001b[0m",
      "\u001b[1;31mTypeError\u001b[0m                                 Traceback (most recent call last)",
      "\u001b[1;32m<ipython-input-62-8dcd617ac268>\u001b[0m in \u001b[0;36m<module>\u001b[1;34m()\u001b[0m\n\u001b[0;32m      1\u001b[0m \u001b[0mgpc_notrain\u001b[0m \u001b[1;33m=\u001b[0m \u001b[0mGaussianProcessClassifier\u001b[0m\u001b[1;33m(\u001b[0m\u001b[1;36m1.0\u001b[0m \u001b[1;33m*\u001b[0m \u001b[0mRBF\u001b[0m\u001b[1;33m(\u001b[0m\u001b[1;36m1.0\u001b[0m\u001b[1;33m)\u001b[0m\u001b[1;33m)\u001b[0m\u001b[1;33m\u001b[0m\u001b[0m\n\u001b[1;32m----> 2\u001b[1;33m \u001b[0mgpc_notrain\u001b[0m\u001b[1;33m.\u001b[0m\u001b[0mpredict\u001b[0m\u001b[1;33m(\u001b[0m\u001b[0mX_new\u001b[0m\u001b[1;33m,\u001b[0m \u001b[0mreturn_std\u001b[0m\u001b[1;33m=\u001b[0m\u001b[1;32mTrue\u001b[0m\u001b[1;33m)\u001b[0m\u001b[1;33m\u001b[0m\u001b[0m\n\u001b[0m",
      "\u001b[1;31mTypeError\u001b[0m: predict() got an unexpected keyword argument 'return_std'"
     ]
    }
   ],
   "source": [
    "gpc_notrain = GaussianProcessClassifier(1.0 * RBF(1.0))\n",
    "gpc_notrain.predict(X_new, return_std=True)"
   ]
  }
 ],
 "metadata": {
  "kernelspec": {
   "display_name": "Python 3",
   "language": "python",
   "name": "python3"
  },
  "language_info": {
   "codemirror_mode": {
    "name": "ipython",
    "version": 3
   },
   "file_extension": ".py",
   "mimetype": "text/x-python",
   "name": "python",
   "nbconvert_exporter": "python",
   "pygments_lexer": "ipython3",
   "version": "3.6.5"
  },
  "latex_envs": {
   "LaTeX_envs_menu_present": true,
   "autoclose": false,
   "autocomplete": true,
   "bibliofile": "biblio.bib",
   "cite_by": "apalike",
   "current_citInitial": 1,
   "eqLabelWithNumbers": true,
   "eqNumInitial": 1,
   "hotkeys": {
    "equation": "Ctrl-E",
    "itemize": "Ctrl-I"
   },
   "labels_anchors": false,
   "latex_user_defs": false,
   "report_style_numbering": false,
   "user_envs_cfg": false
  },
  "toc": {
   "base_numbering": 1,
   "nav_menu": {},
   "number_sections": true,
   "sideBar": true,
   "skip_h1_title": false,
   "title_cell": "Table of Contents",
   "title_sidebar": "Contents",
   "toc_cell": false,
   "toc_position": {},
   "toc_section_display": true,
   "toc_window_display": false
  }
 },
 "nbformat": 4,
 "nbformat_minor": 2
}
