{
 "cells": [
  {
   "cell_type": "markdown",
   "metadata": {},
   "source": [
    "## 初步处理数据 Visualize the data in heatmap"
   ]
  },
  {
   "cell_type": "code",
   "execution_count": 80,
   "metadata": {
    "collapsed": true
   },
   "outputs": [],
   "source": [
    "import pandas as pd\n",
    "import numpy as np\n",
    "import matplotlib.pyplot as plt\n",
    "from matplotlib.ticker import MaxNLocator\n",
    "from matplotlib.colors import BoundaryNorm"
   ]
  },
  {
   "cell_type": "code",
   "execution_count": 46,
   "metadata": {
    "collapsed": true
   },
   "outputs": [],
   "source": [
    "data = np.loadtxt('F:\\data.txt')\n",
    "df = pd.DataFrame(data)"
   ]
  },
  {
   "cell_type": "code",
   "execution_count": 54,
   "metadata": {
    "collapsed": true
   },
   "outputs": [],
   "source": [
    "df = df.iloc[1:] # 删除第一行 第一个数据可能不准确"
   ]
  },
  {
   "cell_type": "code",
   "execution_count": 45,
   "metadata": {},
   "outputs": [
    {
     "data": {
      "image/png": "[encoded data removed]",
      "text/plain": [
       "<matplotlib.figure.Figure at 0xa3195c0>"
      ]
     },
     "metadata": {},
     "output_type": "display_data"
    }
   ],
   "source": [
    "# 按热力图画出温度分布\n",
    "X, Y = np.meshgrid(np.linspace(0, 31, 32), np.linspace(0, 23, 24))\n",
    "temperature = df.iloc[20]\n",
    "temperature0 = np.zeros([24, 32]) \n",
    "k = 0\n",
    "for i in range(24):\n",
    "    for j in range(32):\n",
    "        temperature0[-1-i, -1-j] = temperature[k] #之所以要-1-j是因为temperature0矩阵的第一行对应的其实是图的最下面一行\n",
    "        k += 1\n",
    "\n",
    "fig = plt.figure()\n",
    "ax0 = fig.add_subplot(1, 1, 1)\n",
    "c = ax.pcolormesh(X, Y, temperature0, cmap='Spectral_r')\n",
    "cb = fig.colorbar(c)\n",
    "cb.set_label('Temperature')\n",
    "plt.show()"
   ]
  },
  {
   "cell_type": "markdown",
   "metadata": {},
   "source": [
    "## 尝试让温度分区更加细一点，能不能划分出面部结构 Higher sensitivity heat map"
   ]
  },
  {
   "cell_type": "code",
   "execution_count": 213,
   "metadata": {
    "collapsed": true
   },
   "outputs": [],
   "source": [
    "# 让脸部温度单独保存，环境温度设计为统一值\n",
    "ta = df.min(axis=1)\n",
    "\n",
    "df_face = pd.DataFrame()\n",
    "df_onlyface = pd.DataFrame()\n",
    "for i, minTa in zip(df.values, ta):\n",
    "    face = []\n",
    "    onlyface = []\n",
    "    for j in i:\n",
    "        if j - minTa > 7:\n",
    "            face.append(j)\n",
    "            onlyface.append(j)\n",
    "        else:\n",
    "            face.append(minTa)\n",
    "    face_todf = pd.DataFrame(face).T\n",
    "    onlyface_todf = pd.DataFrame(onlyface).T\n",
    "    df_face = pd.concat([df_face, face_todf], axis = 0)\n",
    "    df_onlyface = pd.concat([df_onlyface, onlyface_todf], axis = 0)"
   ]
  },
  {
   "cell_type": "code",
   "execution_count": 214,
   "metadata": {
    "collapsed": true
   },
   "outputs": [],
   "source": [
    "df_onlyface.index = range(df_onlyface.shape[0])"
   ]
  },
  {
   "cell_type": "markdown",
   "metadata": {},
   "source": [
    "结果表现一般，用90640区分脸部不同区域存在较大困难，先探究温度点频数和热舒适度的联系"
   ]
  },
  {
   "cell_type": "code",
   "execution_count": 97,
   "metadata": {
    "scrolled": true
   },
   "outputs": [
    {
     "data": {
      "image/png": "[encoded data removed]",
      "text/plain": [
       "<matplotlib.figure.Figure at 0xa4f8198>"
      ]
     },
     "metadata": {},
     "output_type": "display_data"
    }
   ],
   "source": [
    "# 设计更细致的温度分级（成不同颜色）\n",
    "cmap = plt.get_cmap(name='Spectral_r')\n",
    "levels = MaxNLocator(nbins=100).tick_values(temperature_i.min(), temperature_i.max())  # 分成binb\n",
    "norm = BoundaryNorm(levels, ncolors=cmap.N, clip=True)\n",
    "\n",
    "# 把温度处理成矩阵\n",
    "temperature_i = df_face.iloc[20]\n",
    "temperature0 = np.zeros([24, 32]) \n",
    "k = 0\n",
    "for i in range(24):\n",
    "    for j in range(32):\n",
    "        temperature0[-1-i, -1-j] = temperature[k] #之所以要-1-j是因为temperature0矩阵的第一行对应的其实是图的最下面一行\n",
    "        k += 1\n",
    "\n",
    "fig = plt.figure()\n",
    "ax0 = fig.add_subplot(1, 1, 1)\n",
    "im = ax0.pcolormesh(X, Y, temperature0, norm=norm)\n",
    "fig.colorbar(im, ax=ax0)\n",
    "plt.show()"
   ]
  }
 ],
 "metadata": {
  "kernelspec": {
   "display_name": "Python 3",
   "language": "python",
   "name": "python3"
  },
  "language_info": {
   "codemirror_mode": {
    "name": "ipython",
    "version": 3
   },
   "file_extension": ".py",
   "mimetype": "text/x-python",
   "name": "python",
   "nbconvert_exporter": "python",
   "pygments_lexer": "ipython3",
   "version": "3.6.1"
  },
  "latex_envs": {
   "LaTeX_envs_menu_present": true,
   "autoclose": false,
   "autocomplete": true,
   "bibliofile": "biblio.bib",
   "cite_by": "apalike",
   "current_citInitial": 1,
   "eqLabelWithNumbers": true,
   "eqNumInitial": 1,
   "hotkeys": {
    "equation": "Ctrl-E",
    "itemize": "Ctrl-I"
   },
   "labels_anchors": false,
   "latex_user_defs": false,
   "report_style_numbering": false,
   "user_envs_cfg": false
  },
  "toc": {
   "base_numbering": 1,
   "nav_menu": {},
   "number_sections": true,
   "sideBar": true,
   "skip_h1_title": false,
   "title_cell": "Table of Contents",
   "title_sidebar": "Contents",
   "toc_cell": false,
   "toc_position": {},
   "toc_section_display": true,
   "toc_window_display": false
  }
 },
 "nbformat": 4,
 "nbformat_minor": 2
}
